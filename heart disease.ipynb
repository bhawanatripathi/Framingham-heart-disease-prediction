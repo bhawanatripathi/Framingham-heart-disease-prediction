{
 "cells": [
  {
   "cell_type": "code",
   "execution_count": 3,
   "metadata": {},
   "outputs": [],
   "source": [
    "import numpy as np\n",
    "#import sklearn.datasets \n",
    "import matplotlib.pyplot as plot\n",
    "import pandas as pd\n",
    "from sklearn.preprocessing import StandardScaler\n",
    "dataframe=pd.read_csv(r\"C:\\Users\\HP\\Desktop\\DATASETS\\framingham_heart_disease.csv\")\n",
    "label_matrix=pd.read_csv(r\"C:\\Users\\HP\\Desktop\\DATASETS\\framingham_heart_disease.csv\",usecols=[\"TenYearCHD\"])\n",
    "label_matrix=label_matrix.values.reshape(-1,)\n",
    "#print(dataframe)\n",
    "\n"
   ]
  },
  {
   "cell_type": "code",
   "execution_count": 5,
   "metadata": {
    "scrolled": true
   },
   "outputs": [
    {
     "name": "stdout",
     "output_type": "stream",
     "text": [
      "[[ 1.15319190e+00 -1.23495068e+00  2.00708772e+00 ...  3.42744436e-01\n",
      "  -2.17516559e-01 -4.23305486e-01]\n",
      " [-8.67158360e-01 -4.18257334e-01  2.09046608e-02 ...  1.59027451e+00\n",
      "  -2.61311076e-01 -4.23305486e-01]\n",
      " [ 1.15319190e+00 -1.84916377e-01 -9.72186868e-01 ... -7.30989222e-02\n",
      "  -5.24078177e-01 -4.23305486e-01]\n",
      " ...\n",
      " [-8.67158360e-01 -1.84916377e-01  2.09046608e-02 ...  6.75419123e-01\n",
      "   1.76634093e-01 -4.23305486e-01]\n",
      " [-8.67158360e-01 -6.51598291e-01 -9.72186868e-01 ...  8.41756467e-01\n",
      "   1.00974313e-18 -4.23305486e-01]\n",
      " [-8.67158360e-01  2.81765538e-01  2.09046608e-02 ...  3.42744436e-01\n",
      "   1.09631895e+00 -4.23305486e-01]]\n"
     ]
    }
   ],
   "source": [
    "scaler=StandardScaler()\n",
    "scaler.fit(dataframe)\n",
    "dataframe=scaler.fit_transform(dataframe)\n",
    "\n",
    "\n",
    "from sklearn.impute import SimpleImputer\n",
    "imputer_obj=SimpleImputer(missing_values=np.nan,strategy='mean')#,axis=0)\n",
    "dataframe=imputer_obj.fit_transform(dataframe)\n",
    "print(dataframe)"
   ]
  },
  {
   "cell_type": "code",
   "execution_count": 3,
   "metadata": {},
   "outputs": [
    {
     "data": {
      "text/html": [
       "<div>\n",
       "<style scoped>\n",
       "    .dataframe tbody tr th:only-of-type {\n",
       "        vertical-align: middle;\n",
       "    }\n",
       "\n",
       "    .dataframe tbody tr th {\n",
       "        vertical-align: top;\n",
       "    }\n",
       "\n",
       "    .dataframe thead th {\n",
       "        text-align: right;\n",
       "    }\n",
       "</style>\n",
       "<table border=\"1\" class=\"dataframe\">\n",
       "  <thead>\n",
       "    <tr style=\"text-align: right;\">\n",
       "      <th></th>\n",
       "      <th>PCA1</th>\n",
       "      <th>PCA2</th>\n",
       "      <th>PCA3</th>\n",
       "      <th>PCA4</th>\n",
       "    </tr>\n",
       "  </thead>\n",
       "  <tbody>\n",
       "    <tr>\n",
       "      <th>0</th>\n",
       "      <td>-1.880369</td>\n",
       "      <td>-1.000606</td>\n",
       "      <td>0.018645</td>\n",
       "      <td>-0.062456</td>\n",
       "    </tr>\n",
       "    <tr>\n",
       "      <th>1</th>\n",
       "      <td>-0.130757</td>\n",
       "      <td>-1.344740</td>\n",
       "      <td>-0.253586</td>\n",
       "      <td>-1.518557</td>\n",
       "    </tr>\n",
       "    <tr>\n",
       "      <th>2</th>\n",
       "      <td>-1.025503</td>\n",
       "      <td>1.403189</td>\n",
       "      <td>-0.198246</td>\n",
       "      <td>0.387487</td>\n",
       "    </tr>\n",
       "    <tr>\n",
       "      <th>3</th>\n",
       "      <td>1.841137</td>\n",
       "      <td>1.968023</td>\n",
       "      <td>0.331202</td>\n",
       "      <td>0.978144</td>\n",
       "    </tr>\n",
       "    <tr>\n",
       "      <th>4</th>\n",
       "      <td>-0.874600</td>\n",
       "      <td>0.995462</td>\n",
       "      <td>-0.026626</td>\n",
       "      <td>-1.431001</td>\n",
       "    </tr>\n",
       "    <tr>\n",
       "      <th>...</th>\n",
       "      <td>...</td>\n",
       "      <td>...</td>\n",
       "      <td>...</td>\n",
       "      <td>...</td>\n",
       "    </tr>\n",
       "    <tr>\n",
       "      <th>4233</th>\n",
       "      <td>2.582929</td>\n",
       "      <td>1.457418</td>\n",
       "      <td>-0.165251</td>\n",
       "      <td>1.482859</td>\n",
       "    </tr>\n",
       "    <tr>\n",
       "      <th>4234</th>\n",
       "      <td>-2.097774</td>\n",
       "      <td>2.386918</td>\n",
       "      <td>-0.208032</td>\n",
       "      <td>0.847339</td>\n",
       "    </tr>\n",
       "    <tr>\n",
       "      <th>4235</th>\n",
       "      <td>-1.272739</td>\n",
       "      <td>0.651205</td>\n",
       "      <td>0.239894</td>\n",
       "      <td>-1.038513</td>\n",
       "    </tr>\n",
       "    <tr>\n",
       "      <th>4236</th>\n",
       "      <td>-1.186577</td>\n",
       "      <td>0.618275</td>\n",
       "      <td>-0.026661</td>\n",
       "      <td>-1.291748</td>\n",
       "    </tr>\n",
       "    <tr>\n",
       "      <th>4237</th>\n",
       "      <td>0.033845</td>\n",
       "      <td>-1.538060</td>\n",
       "      <td>0.568924</td>\n",
       "      <td>-0.740684</td>\n",
       "    </tr>\n",
       "  </tbody>\n",
       "</table>\n",
       "<p>4238 rows × 4 columns</p>\n",
       "</div>"
      ],
      "text/plain": [
       "          PCA1      PCA2      PCA3      PCA4\n",
       "0    -1.880369 -1.000606  0.018645 -0.062456\n",
       "1    -0.130757 -1.344740 -0.253586 -1.518557\n",
       "2    -1.025503  1.403189 -0.198246  0.387487\n",
       "3     1.841137  1.968023  0.331202  0.978144\n",
       "4    -0.874600  0.995462 -0.026626 -1.431001\n",
       "...        ...       ...       ...       ...\n",
       "4233  2.582929  1.457418 -0.165251  1.482859\n",
       "4234 -2.097774  2.386918 -0.208032  0.847339\n",
       "4235 -1.272739  0.651205  0.239894 -1.038513\n",
       "4236 -1.186577  0.618275 -0.026661 -1.291748\n",
       "4237  0.033845 -1.538060  0.568924 -0.740684\n",
       "\n",
       "[4238 rows x 4 columns]"
      ]
     },
     "execution_count": 3,
     "metadata": {},
     "output_type": "execute_result"
    }
   ],
   "source": [
    "def PCA(data):\n",
    "    from sklearn.decomposition import PCA\n",
    "    P=PCA(n_components=4)\n",
    "    P.fit(data)\n",
    "    principal_comp= P.transform(data)\n",
    "    return principal_comp\n",
    "\n",
    "principal_comp=PCA(dataframe)\n",
    "heart_dataset=pd.DataFrame(principal_comp,columns=['PCA1','PCA2','PCA3','PCA4'])\n",
    "print(heart_dataset)"
   ]
  },
  {
   "cell_type": "code",
   "execution_count": 4,
   "metadata": {
    "scrolled": true
   },
   "outputs": [
    {
     "name": "stdout",
     "output_type": "stream",
     "text": [
      "          PCA1      PCA2      PCA3      PCA4\n",
      "3748 -0.243980 -1.899339  0.200141  0.539591\n",
      "1928 -0.749588  1.105320 -0.474098 -1.988275\n",
      "2058 -0.509630  1.517117  1.186319  1.657166\n",
      "2106  0.234793 -0.813865  0.423236  2.582143\n",
      "3103 -0.865595 -1.765624  0.253981 -0.364853\n",
      "...        ...       ...       ...       ...\n",
      "1033  0.571945 -1.118145 -0.652677 -1.064710\n",
      "3264 -0.729936 -0.341213  0.424374 -0.487796\n",
      "1653 -3.233535  0.992832  0.412928  0.509464\n",
      "2607  1.477501 -1.384318 -0.335809 -0.268972\n",
      "2732  0.409816  1.009917 -0.886804 -1.068399\n",
      "\n",
      "[3178 rows x 4 columns]\n"
     ]
    },
    {
     "data": {
      "text/plain": [
       "array(['no'], dtype='<U3')"
      ]
     },
     "execution_count": 4,
     "metadata": {},
     "output_type": "execute_result"
    }
   ],
   "source": [
    "from sklearn.model_selection import train_test_split\n",
    "import numpy as np\n",
    "x_train, x_test, y_train, y_test = train_test_split(heart_dataset, label_matrix, test_size=0.25, random_state=0)\n",
    "print(x_train)\n",
    "a=np.array(list(x_train.iloc[1032,:])).reshape(1,-1)\n",
    "from sklearn.linear_model import LogisticRegression\n",
    "l=LogisticRegression()\n",
    "l.fit(x_train, y_train)\n",
    "prediction=l.predict(a)\n",
    "prediction=prediction.astype(str)\n",
    "prediction=np.where(prediction=='0','no','yes')\n",
    "print(prediction)"
   ]
  },
  {
   "cell_type": "code",
   "execution_count": 5,
   "metadata": {},
   "outputs": [
    {
     "name": "stdout",
     "output_type": "stream",
     "text": [
      "accuracy of the model: 91.13207547169812\n"
     ]
    }
   ],
   "source": [
    "\n",
    "diff=l.predict(x_test)-y_test\n",
    "accuracy=((len(y_test)-len(diff[diff!=0]))/len(y_test))*100\n",
    "print(\"accuracy of the model:\", accuracy)"
   ]
  },
  {
   "cell_type": "code",
   "execution_count": 6,
   "metadata": {},
   "outputs": [
    {
     "name": "stdout",
     "output_type": "stream",
     "text": [
      "          PCA1      PCA2      PCA3      PCA4\n",
      "0    -1.880369 -1.000607  0.018647 -0.062441\n",
      "1    -0.130757 -1.344742 -0.253588 -1.518528\n",
      "2    -1.025503  1.403191 -0.198243  0.387464\n",
      "3     1.841137  1.968017  0.331190  0.978241\n",
      "4    -0.874600  0.995460 -0.026629 -1.430953\n",
      "...        ...       ...       ...       ...\n",
      "4233  2.582928  1.457431 -0.165230  1.482620\n",
      "4234 -2.097773  2.386903 -0.208045  0.847619\n",
      "4235 -1.272739  0.651203  0.239897 -1.038465\n",
      "4236 -1.186577  0.618278 -0.026662 -1.291804\n",
      "4237  0.033846 -1.538063  0.568921 -0.740639\n",
      "\n",
      "[4238 rows x 4 columns]\n",
      "          PCA1      PCA2      PCA3      PCA4\n",
      "3748 -0.243979 -1.899343  0.200140  0.539667\n",
      "1928 -0.749587  1.105321 -0.474101 -1.988280\n",
      "2058 -0.509630  1.517120  1.186318  1.657098\n",
      "2106  0.234793 -0.813864  0.423231  2.582115\n",
      "3103 -0.865595 -1.765627  0.253978 -0.364803\n",
      "...        ...       ...       ...       ...\n",
      "1033  0.571946 -1.118147 -0.652683 -1.064695\n",
      "3264 -0.729937 -0.341202  0.424382 -0.488010\n",
      "1653 -3.233535  0.992832  0.412931  0.509466\n",
      "2607  1.477501 -1.384320 -0.335812 -0.268944\n",
      "2732  0.409816  1.009920 -0.886804 -1.068465\n",
      "\n",
      "[3178 rows x 4 columns]\n",
      "['no']\n",
      "accuracy of the model: 91.13207547169812\n"
     ]
    }
   ],
   "source": [
    "import numpy as np\n",
    "#import sklearn.datasets \n",
    "import matplotlib.pyplot as plot\n",
    "import pandas as pd\n",
    "from sklearn.preprocessing import StandardScaler\n",
    "dataframe=pd.read_csv(r\"C:\\Users\\HP\\Desktop\\DATASETS\\framingham_heart_disease.csv\")\n",
    "label_matrix=pd.read_csv(r\"C:\\Users\\HP\\Desktop\\DATASETS\\framingham_heart_disease.csv\",usecols=[\"TenYearCHD\"])\n",
    "label_matrix=label_matrix.values.reshape(-1,)\n",
    "#print(dataframe)\n",
    "scaler=StandardScaler()\n",
    "scaler.fit(dataframe)\n",
    "dataframe=scaler.fit_transform(dataframe)\n",
    "\n",
    "\n",
    "from sklearn.impute import SimpleImputer\n",
    "imputer_obj=SimpleImputer(missing_values=np.nan,strategy='mean')#,axis=0)\n",
    "dataframe=imputer_obj.fit_transform(dataframe)\n",
    "\n",
    "def PCA(data):\n",
    "    from sklearn.decomposition import PCA\n",
    "    P=PCA(n_components=4)\n",
    "    P.fit(data)\n",
    "    principal_comp= P.transform(data)\n",
    "    return principal_comp\n",
    "\n",
    "principal_comp=PCA(dataframe)\n",
    "heart_dataset=pd.DataFrame(principal_comp,columns=['PCA1','PCA2','PCA3','PCA4'])\n",
    "print(heart_dataset)\n",
    "\n",
    "from sklearn.model_selection import train_test_split\n",
    "import numpy as np\n",
    "x_train, x_test, y_train, y_test = train_test_split(heart_dataset, label_matrix, test_size=0.25, random_state=0)\n",
    "print(x_train)\n",
    "a=np.array(list(x_train.iloc[1032,:])).reshape(1,-1)\n",
    "from sklearn.linear_model import LogisticRegression\n",
    "l=LogisticRegression()\n",
    "l.fit(x_train, y_train)\n",
    "prediction=l.predict(a)\n",
    "prediction=prediction.astype(str)\n",
    "prediction=np.where(prediction=='0','no','yes')\n",
    "print(prediction)\n",
    "\n",
    "diff=l.predict(x_test)-y_test\n",
    "accuracy=((len(y_test)-len(diff[diff!=0]))/len(y_test))*100\n",
    "print(\"accuracy of the model:\", accuracy)"
   ]
  },
  {
   "cell_type": "code",
   "execution_count": 1,
   "metadata": {},
   "outputs": [
    {
     "ename": "NameError",
     "evalue": "name 'data' is not defined",
     "output_type": "error",
     "traceback": [
      "\u001b[1;31m---------------------------------------------------------------------------\u001b[0m",
      "\u001b[1;31mNameError\u001b[0m                                 Traceback (most recent call last)",
      "\u001b[1;32m<ipython-input-1-47ed9291efce>\u001b[0m in \u001b[0;36m<module>\u001b[1;34m\u001b[0m\n\u001b[1;32m----> 1\u001b[1;33m \u001b[0mdata\u001b[0m\u001b[1;33m.\u001b[0m\u001b[0mastype\u001b[0m\u001b[1;33m(\u001b[0m\u001b[0mstring\u001b[0m\u001b[1;33m)\u001b[0m\u001b[1;33m\u001b[0m\u001b[1;33m\u001b[0m\u001b[0m\n\u001b[0m",
      "\u001b[1;31mNameError\u001b[0m: name 'data' is not defined"
     ]
    }
   ],
   "source": [
    "data.astype(string)"
   ]
  }
 ],
 "metadata": {
  "kernelspec": {
   "display_name": "Python 3",
   "language": "python",
   "name": "python3"
  },
  "language_info": {
   "codemirror_mode": {
    "name": "ipython",
    "version": 3
   },
   "file_extension": ".py",
   "mimetype": "text/x-python",
   "name": "python",
   "nbconvert_exporter": "python",
   "pygments_lexer": "ipython3",
   "version": "3.9.5"
  }
 },
 "nbformat": 4,
 "nbformat_minor": 4
}
